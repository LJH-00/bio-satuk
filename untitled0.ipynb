{
  "nbformat": 4,
  "nbformat_minor": 0,
  "metadata": {
    "colab": {
      "provenance": [],
      "include_colab_link": true
    },
    "kernelspec": {
      "name": "python3",
      "display_name": "Python 3"
    },
    "language_info": {
      "name": "python"
    },
    "gpuClass": "standard"
  },
  "cells": [
    {
      "cell_type": "markdown",
      "metadata": {
        "id": "view-in-github",
        "colab_type": "text"
      },
      "source": [
        "<a href=\"https://colab.research.google.com/github/LJH-00/bio-satuk/blob/main/untitled0.ipynb\" target=\"_parent\"><img src=\"https://colab.research.google.com/assets/colab-badge.svg\" alt=\"Open In Colab\"/></a>"
      ]
    },
    {
      "cell_type": "code",
      "source": [
        "import time\n",
        "import datetime # datetime 라이브러리 import"
      ],
      "metadata": {
        "id": "bvVv54_awU4F"
      },
      "execution_count": null,
      "outputs": []
    },
    {
      "cell_type": "code",
      "source": [
        "import string\n",
        "import random\n",
        "\n",
        "a = []\n",
        "for j in range(10):\n",
        "  b = []\n",
        "  for i in range(1000):\n",
        "    b.append(random.randint(1, 4))\n",
        "  a.append(b)"
      ],
      "metadata": {
        "id": "S_Al8KMHtf5m"
      },
      "execution_count": null,
      "outputs": []
    },
    {
      "cell_type": "code",
      "source": [
        "from pandas.core.indexes.interval import is_float\n",
        "import string\n",
        "import random\n",
        "\n",
        "Mutation = []\n",
        "Mutation_rate = []\n",
        "for j in range(10):\n",
        "  b = []\n",
        "  cnt = 0\n",
        "  for i in range(1000):\n",
        "    b.append(a[j][i])\n",
        "    if random.randint(1, 10) == 1:\n",
        "      cnt += 1\n",
        "      b[-1] = 0\n",
        "  Mutation_rate.append(cnt/1000)\n",
        "  Mutation.append(b)"
      ],
      "metadata": {
        "id": "z5GRdbZWIKSl"
      },
      "execution_count": null,
      "outputs": []
    },
    {
      "cell_type": "markdown",
      "source": [
        "스택"
      ],
      "metadata": {
        "id": "wzbQ35kMxAFZ"
      }
    },
    {
      "cell_type": "code",
      "source": [
        "time1=[]\n",
        "for j in range(10):\n",
        "  start = time.time() # 시작\n",
        "\n",
        "  sequence = []\n",
        "  for i in range(len(a[j])):\n",
        "    sequence.append(Mutation[j][i])\n",
        "    if sequence[-1] != a[j][i]:\n",
        "      sequence.pop()\n",
        "      sequence.append(a[j][i])\n",
        "\n",
        "  sec = time.time()-start # 종료 - 시작 (걸린 시간)\n",
        "  \n",
        "  times = str(datetime.timedelta(seconds=sec))\n",
        "  print(f\"{times} sec\")\n",
        "  time1.append(sec)"
      ],
      "metadata": {
        "id": "pryr_BrsubBO"
      },
      "execution_count": null,
      "outputs": []
    },
    {
      "cell_type": "markdown",
      "source": [
        "일반"
      ],
      "metadata": {
        "id": "wG3VGlz_xDfq"
      }
    },
    {
      "cell_type": "code",
      "source": [
        "time2=[]\n",
        "for j in range(10):\n",
        "  start = time.time() # 시작\n",
        "\n",
        "  sequence = [0]*10000000\n",
        "  for i in range(len(a[j])):\n",
        "    sequence[i] = Mutation[j][i]\n",
        "    if sequence[i] != a[j][i]:\n",
        "      #print(sequence[len(a) - 1], a[j][i])\n",
        "      sequence[i] = a[j][i]\n",
        "\n",
        "  sec = time.time()-start # 종료 - 시작 (걸린 시간)\n",
        "  \n",
        "  times = str(datetime.timedelta(seconds=sec))\n",
        "  print(f\"{times} sec\")\n",
        "  time2.append(sec)"
      ],
      "metadata": {
        "id": "DFCrWSrjw_X3"
      },
      "execution_count": null,
      "outputs": []
    }
  ]
}